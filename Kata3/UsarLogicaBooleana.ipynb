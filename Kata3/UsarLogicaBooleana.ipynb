{
 "cells": [
  {
   "cell_type": "markdown",
   "metadata": {},
   "source": [
    "# Ejercicio - Escribir declaraciones if, else y elfi"
   ]
  },
  {
   "cell_type": "markdown",
   "metadata": {},
   "source": [
    "*Para este ejercicio, escribiré una lógica condicional que imprima una advertencia si un asteriode se acerca a la tierra demasiado rápido. La velocidad del asteroide varía dependiendo de lo cerca que esté del sol, y cualquier velocidad superior a 25 KM/s merece una advertencia*"
   ]
  },
  {
   "cell_type": "code",
   "execution_count": 3,
   "metadata": {},
   "outputs": [
    {
     "name": "stdout",
     "output_type": "stream",
     "text": [
      "PELIGRO la velocidad del meteorito excede los limites de control\n",
      "La velocidad registrada es de: 49\n"
     ]
    }
   ],
   "source": [
    "meteoriteKMpS = 49\n",
    "if meteoriteKMpS > 25:\n",
    "    print(\"PELIGRO la velocidad del meteorito excede los limites de control\")\n",
    "    print(\"La velocidad registrada es de: \" + str(meteoriteKMpS)) "
   ]
  },
  {
   "cell_type": "markdown",
   "metadata": {},
   "source": [
    "*Si un asteroide entra en la atmósfera de la Teirra a una velocidad mayor o igual a 20km/s, a veces produce un rayo de luz que se puede ver desde la Tierra. Escribe la lógica condicional que usa declaraciones if, else y elif para alertar a las personas de todo el mundo que deben buscar un asteroide en el cielo. ¡Hay uno que se dirige a la tierra ahora a una velocidad de 19km/s!*"
   ]
  },
  {
   "cell_type": "code",
   "execution_count": 16,
   "metadata": {},
   "outputs": [
    {
     "name": "stdout",
     "output_type": "stream",
     "text": [
      "Es muy posible que NO se visualice rayo de luz\n"
     ]
    }
   ],
   "source": [
    "asteroidKMpS = 19\n",
    "if asteroidKMpS == 0:\n",
    "    print(\"No hay registro de movimiento\")\n",
    "elif asteroidKMpS >= 1 and asteroidKMpS < 20:\n",
    "    print(\"Es muy posible que NO se visualice rayo de luz\")\n",
    "elif asteroidKMpS >= 20:\n",
    "    print(\"Posible Rayo de luz VISIBLE desde cualquier punto\")\n",
    "else:\n",
    "    print(\"Revise los datos colocados\")"
   ]
  },
  {
   "cell_type": "markdown",
   "metadata": {},
   "source": [
    "# Ejercicio USO de operadores AND y OR"
   ]
  },
  {
   "cell_type": "code",
   "execution_count": 43,
   "metadata": {},
   "outputs": [
    {
     "name": "stdout",
     "output_type": "stream",
     "text": [
      "SIN PELIGRO registrado\n"
     ]
    }
   ],
   "source": [
    "asteroidSize = 15\n",
    "asteroidKMpS = 19\n",
    "\n",
    "if asteroidSize >= 25 or asteroidKMpS >= 25:\n",
    "    print(\"¡¡¡¡CUIDADO!!!!, velocidad y/o tamano del asteroide entra en rango de peligro\")\n",
    "elif asteroidKMpS >= 20 and asteroidKMpS < 25:\n",
    "    print(\"Posible Rayo de luz VISIBLE desde cualquier punto\")\n",
    "elif asteroidSize < 25:\n",
    "    print(\"SIN PELIGRO registrado\")\n",
    "else:\n",
    "    print(\"SIN DATOS REGISTRADOS.\")\n",
    "    "
   ]
  },
  {
   "cell_type": "markdown",
   "metadata": {},
   "source": [
    "# Curso propedeútico de Python para Launch X- Innovaccion Virtual\n",
    "\n",
    "Redes: -Github: RancheritoMcfly -Twitter: @ArcheritoMcfly"
   ]
  }
 ],
 "metadata": {
  "interpreter": {
   "hash": "bdaa9565f69368ae5dabad04b58b810a1d22f534307cd795d8b59dedaf44105b"
  },
  "kernelspec": {
   "display_name": "Python 3.9.10 64-bit (windows store)",
   "language": "python",
   "name": "python3"
  },
  "language_info": {
   "codemirror_mode": {
    "name": "ipython",
    "version": 3
   },
   "file_extension": ".py",
   "mimetype": "text/x-python",
   "name": "python",
   "nbconvert_exporter": "python",
   "pygments_lexer": "ipython3",
   "version": "3.9.10"
  },
  "orig_nbformat": 4
 },
 "nbformat": 4,
 "nbformat_minor": 2
}
