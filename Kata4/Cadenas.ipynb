{
 "cells": [
  {
   "cell_type": "markdown",
   "metadata": {},
   "source": [
    "# Ejercicio 1: TRansformar cadenas"
   ]
  },
  {
   "cell_type": "code",
   "execution_count": 3,
   "metadata": {},
   "outputs": [
    {
     "name": "stdout",
     "output_type": "stream",
     "text": [
      "['Interesting facts about the Moon', \" The Moon is Earth's only satellite\", ' There are several interesting facts about the Moon and how it affects life here on Earth', ' \\nOn average, the Moon moves 4cm away from the Earth every year', ' This yearly drift is not significant enough to cause immediate effects on Earth', ' The highest daylight temperature of the Moon is 127 C', '']\n",
      " \n",
      "On average, the Moon moves 4cm away from the Earth every year\n",
      " The highest daylight temperature of the Moon is 127 C\n",
      " \n",
      "On average, the Moon moves 4cm away from the Earth every year\n",
      " The highest daylight temperature of the Moon is 127 Celsius\n"
     ]
    }
   ],
   "source": [
    "text = \"\"\"Interesting facts about the Moon. The Moon is Earth's only satellite. There are several interesting facts about the Moon and how it affects life here on Earth. \n",
    "On average, the Moon moves 4cm away from the Earth every year. This yearly drift is not significant enough to cause immediate effects on Earth. The highest daylight temperature of the Moon is 127 C.\"\"\"\n",
    "\n",
    "partesTexto = text.split('.')\n",
    "print(partesTexto)\n",
    "\n",
    "palabrasClave = [\"average\",\"temperature\",\"distance\"]\n",
    "for i in partesTexto:\n",
    "    for j in palabrasClave:\n",
    "        if j in i:\n",
    "            print(i)\n",
    "            break\n",
    "        \n",
    "for i in partesTexto:\n",
    "    for j in palabrasClave:\n",
    "        if j in i:\n",
    "            print(i.replace(' C', ' Celsius'))\n",
    "            break"
   ]
  },
  {
   "cell_type": "markdown",
   "metadata": {},
   "source": [
    "# Ejercicio 2: Formateando Cadenas.\n"
   ]
  },
  {
   "cell_type": "code",
   "execution_count": 18,
   "metadata": {},
   "outputs": [
    {
     "name": "stdout",
     "output_type": "stream",
     "text": [
      "Gravity Facts about Moon\n",
      "==================================================\n",
      "Nombre del planeta: Earth\n",
      "Gravedad en Moon: 1.6199999999999999 mts/seg2\n",
      ".........................\n",
      "Comprobación de plantilla\n",
      "==================================================\n",
      "Nombre del planeta: Earth\n",
      "Gravedad en Moon: 1.6199999999999999 mts/seg2\n",
      "==================================================\n",
      "\n",
      "Gravity Facts about Ganímedes\n",
      "==================================================\n",
      "Nombre del planeta: Marte\n",
      "Gravedad en Ganímedes: 0.00143 m/s2\n"
     ]
    }
   ],
   "source": [
    "# Datos con los que se trabajara\n",
    "\n",
    "satelite = \"Moon\"\n",
    "gravedad = 0.00162 # in kms\n",
    "planeta = \"Earth\"\n",
    "\n",
    "#Título\n",
    "titulo = f'Gravity Facts about {satelite}'\n",
    "\n",
    "#Plantilla\n",
    "plantilla = f\"\"\"{'=' *50}\n",
    "Nombre del planeta: {planeta}\n",
    "Gravedad en {satelite}: {gravedad * 1000} mts/seg2\"\"\"\n",
    "\n",
    "#Union de ambas cadenas\n",
    "todoJunto = f\"\"\"{titulo}\n",
    "{plantilla}\"\"\"\n",
    "\n",
    "print(todoJunto)\n",
    "\n",
    "#Datos nuevos\n",
    "satelite = \"Ganímedes\"\n",
    "gravedad = 0.00143\n",
    "planeta = \"Marte\"\n",
    "\n",
    "#Comprobar la plantilla\n",
    "print(\".........................\")\n",
    "print(\"Comprobación de plantilla\")\n",
    "print(plantilla)\n",
    "print(\"==================================================\")\n",
    "\n",
    "#Nueva plantilla\n",
    "nuevaPlantilla = \"\"\"\n",
    "Gravity Facts about {satelite}\n",
    "==================================================\n",
    "Nombre del planeta: {planeta}\n",
    "Gravedad en {satelite}: {gravedad} m/s2\"\"\"\n",
    "\n",
    "#Formateo\n",
    "\n",
    "print(nuevaPlantilla.format(satelite = satelite , planeta = planeta, gravedad = gravedad))\n"
   ]
  },
  {
   "cell_type": "markdown",
   "metadata": {},
   "source": [
    "# Curso propedeútico de Python para Launch X- Innovaccion Virtual\n",
    "\n",
    "Redes: -Github: RancheritoMcfly -Twitter: @ArcheritoMcfly"
   ]
  }
 ],
 "metadata": {
  "interpreter": {
   "hash": "bdaa9565f69368ae5dabad04b58b810a1d22f534307cd795d8b59dedaf44105b"
  },
  "kernelspec": {
   "display_name": "Python 3.9.10 64-bit (windows store)",
   "language": "python",
   "name": "python3"
  },
  "language_info": {
   "codemirror_mode": {
    "name": "ipython",
    "version": 3
   },
   "file_extension": ".py",
   "mimetype": "text/x-python",
   "name": "python",
   "nbconvert_exporter": "python",
   "pygments_lexer": "ipython3",
   "version": "3.9.10"
  },
  "orig_nbformat": 4
 },
 "nbformat": 4,
 "nbformat_minor": 2
}
