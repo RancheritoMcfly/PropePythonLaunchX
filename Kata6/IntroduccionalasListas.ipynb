{
 "cells": [
  {
   "cell_type": "markdown",
   "metadata": {},
   "source": [
    "# Ejercicio 1: crear y usar listas de python"
   ]
  },
  {
   "cell_type": "code",
   "execution_count": 8,
   "metadata": {},
   "outputs": [
    {
     "name": "stdout",
     "output_type": "stream",
     "text": [
      "['Mercurio', 'Venus', 'Tierra', 'Marte', 'Jupiter', 'Saturno', 'Urano', 'Neptuno']\n",
      "La cantidad de planetas es de: 8 planetas\n",
      "El último elemento es: Neptuno\n",
      "El último elemento, ahora es: Plutón\n"
     ]
    }
   ],
   "source": [
    "#Creamos la lista planets y la mostramos \n",
    "planets = [\"Mercurio\", \"Venus\", \"Tierra\", \"Marte\", \"Jupiter\", \"Saturno\", \"Urano\", \"Neptuno\"]\n",
    "print(planets)\n",
    "print(\"La cantidad de planetas es de: \" + str(len(planets)) + \" planetas\")\n",
    "print(\"El último elemento es: \" + planets[len(planets)-1])\n",
    "\n",
    "#Agregamos a plutón y mostramos el último elemento\n",
    "planets.append(\"Plutón\")\n",
    "print(\"El último elemento, ahora es: \" + planets[len(planets)-1])"
   ]
  },
  {
   "cell_type": "markdown",
   "metadata": {},
   "source": [
    "# Ejercicio 2: Trabajando con datos de una lista"
   ]
  },
  {
   "cell_type": "code",
   "execution_count": 13,
   "metadata": {},
   "outputs": [
    {
     "name": "stdout",
     "output_type": "stream",
     "text": [
      "['Mercurio', 'Venus', 'Tierra', 'Marte', 'Jupiter', 'Saturno', 'Urano', 'Neptuno', 'Plutón']\n",
      "Estos son los planetas más cercanos al sol hasta Tierra:\n",
      "['Mercurio', 'Venus']\n",
      "Estos son los planetas más alejados al sol desde Tierra:\n",
      "['Marte', 'Jupiter', 'Saturno', 'Urano', 'Neptuno', 'Plutón']\n"
     ]
    }
   ],
   "source": [
    "#Lista de planetas\n",
    "print(planets)\n",
    "#Solicitamos el nombre de un planeta\n",
    "planeta = input(\"Ingrese el nombre del planeeta: \")\n",
    "#Buscar el planeta en la lista\n",
    "indicePlaneta = planets.index(planeta)\n",
    "#Mostrar los planetas del sol al planeta\n",
    "print(\"Estos son los planetas más cercanos al sol hasta \" + planeta+\":\")\n",
    "print(planets[0:indicePlaneta])\n",
    "#Mostrar los planetas del seleccionado hasta el más lejano\n",
    "print(\"Estos son los planetas más alejados al sol desde \" + planeta+\":\")\n",
    "print(planets[indicePlaneta + 1:])\n",
    "\n"
   ]
  },
  {
   "cell_type": "markdown",
   "metadata": {},
   "source": [
    "# Curso propedeútico de Python para Launch X- Innovaccion Virtual\n",
    "\n",
    "Redes: -Github: RancheritoMcfly -Twitter: @ArcheritoMcfly"
   ]
  }
 ],
 "metadata": {
  "interpreter": {
   "hash": "bdaa9565f69368ae5dabad04b58b810a1d22f534307cd795d8b59dedaf44105b"
  },
  "kernelspec": {
   "display_name": "Python 3.9.10 64-bit (windows store)",
   "language": "python",
   "name": "python3"
  },
  "language_info": {
   "codemirror_mode": {
    "name": "ipython",
    "version": 3
   },
   "file_extension": ".py",
   "mimetype": "text/x-python",
   "name": "python",
   "nbconvert_exporter": "python",
   "pygments_lexer": "ipython3",
   "version": "3.9.10"
  },
  "orig_nbformat": 4
 },
 "nbformat": 4,
 "nbformat_minor": 2
}
