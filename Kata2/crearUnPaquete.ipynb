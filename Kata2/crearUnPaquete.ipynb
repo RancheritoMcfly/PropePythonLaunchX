{
 "cells": [
  {
   "cell_type": "markdown",
   "metadata": {},
   "source": [
    "# Ejercicio - Crear un paquete\n",
    "\n",
    "## Este ejercicio es para aprender a utilizar entornos virtuales como una forma para no afectar a los paquetes instalados globalmente y otros programas que ejecutan en tu maquina\n"
   ]
  },
  {
   "cell_type": "code",
   "execution_count": null,
   "metadata": {},
   "outputs": [],
   "source": [
    "from PIL import Image\n",
    "import numpy as np\n",
    "from matplotlib import pyplot as pyplot\n",
    "\n",
    "im = Image.open('D:/VISUAL STUDIO CODE/LAUNCHX/Kata2/prueba.jpg')\n",
    "print(im.format)\n",
    "print(im.size)\n",
    "print(im.mode)\n",
    "\n",
    "im"
   ]
  }
 ],
 "metadata": {
  "interpreter": {
   "hash": "bdaa9565f69368ae5dabad04b58b810a1d22f534307cd795d8b59dedaf44105b"
  },
  "kernelspec": {
   "display_name": "Python 3.9.10 64-bit (windows store)",
   "language": "python",
   "name": "python3"
  },
  "language_info": {
   "codemirror_mode": {
    "name": "ipython",
    "version": 3
   },
   "file_extension": ".py",
   "mimetype": "text/x-python",
   "name": "python",
   "nbconvert_exporter": "python",
   "pygments_lexer": "ipython3",
   "version": "3.9.10"
  },
  "orig_nbformat": 4
 },
 "nbformat": 4,
 "nbformat_minor": 2
}
