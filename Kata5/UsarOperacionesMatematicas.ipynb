{
 "cells": [
  {
   "cell_type": "markdown",
   "metadata": {},
   "source": [
    "# Ejercicio 1 - Utilizar operadores aritméticos."
   ]
  },
  {
   "cell_type": "code",
   "execution_count": 8,
   "metadata": {},
   "outputs": [
    {
     "name": "stdout",
     "output_type": "stream",
     "text": [
      "628949330 \n",
      " 390577533\n"
     ]
    }
   ],
   "source": [
    "# Crear variables para almacenar las dos distancias\n",
    "# ¡Asegúrate de quitar las comas!\n",
    "\n",
    "tierra = 149597870\n",
    "jupiter = 778547200\n",
    "\n",
    "# distancia\n",
    "distancia = jupiter - tierra\n",
    "distanciaMillas= int(distancia * 0.621)\n",
    "print(distancia, \"\\n\",distanciaMillas)\n"
   ]
  },
  {
   "cell_type": "markdown",
   "metadata": {},
   "source": [
    "#  Ejercicio 2: Convierte cadenas en números y usa valores absolutos"
   ]
  },
  {
   "cell_type": "code",
   "execution_count": 12,
   "metadata": {},
   "outputs": [
    {
     "name": "stdout",
     "output_type": "stream",
     "text": [
      "628949330\n",
      "390577533\n"
     ]
    }
   ],
   "source": [
    "#Almacenar entradas de usuario\n",
    "primerPlaneta = input(\"Introduzca primer distancia: \")\n",
    "segundoPlaneta = input(\"Introduzca segunda distancia: \")\n",
    "\n",
    "#Convierte las cadenas de ambos planetas a números enteros\n",
    "primerPlaneta = int(primerPlaneta)\n",
    "segundoPlaneta = int(segundoPlaneta)\n",
    "\n",
    "#Realizar el cálculo y determinar el valor absoluto\n",
    "distancia = segundoPlaneta - primerPlaneta\n",
    "print(str(distancia))\n",
    "\n",
    "#Convertir de KM a Millas\n",
    "distanciaMillas = int(distancia * 0.621)\n",
    "print(str(distanciaMillas))"
   ]
  },
  {
   "cell_type": "markdown",
   "metadata": {},
   "source": [
    "# Curso propedeútico de Python para Launch X- Innovaccion Virtual\n",
    "\n",
    "Redes: -Github: RancheritoMcfly -Twitter: @ArcheritoMcfly"
   ]
  }
 ],
 "metadata": {
  "interpreter": {
   "hash": "bdaa9565f69368ae5dabad04b58b810a1d22f534307cd795d8b59dedaf44105b"
  },
  "kernelspec": {
   "display_name": "Python 3.9.10 64-bit (windows store)",
   "language": "python",
   "name": "python3"
  },
  "language_info": {
   "codemirror_mode": {
    "name": "ipython",
    "version": 3
   },
   "file_extension": ".py",
   "mimetype": "text/x-python",
   "name": "python",
   "nbconvert_exporter": "python",
   "pygments_lexer": "ipython3",
   "version": "3.9.10"
  },
  "orig_nbformat": 4
 },
 "nbformat": 4,
 "nbformat_minor": 2
}
