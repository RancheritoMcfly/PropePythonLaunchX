{
  "cells": [
    {
      "cell_type": "markdown",
      "metadata": {
        "id": "view-in-github",
        "colab_type": "text"
      },
      "source": [
        "<a href=\"https://colab.research.google.com/github/RancheritoMcfly/PropePythonLaunchX/blob/main/Te_damos_la_bienvenida_a_Colaboratory.ipynb\" target=\"_parent\"><img src=\"https://colab.research.google.com/assets/colab-badge.svg\" alt=\"Open In Colab\"/></a>"
      ]
    },
    {
      "cell_type": "code",
      "source": [
        "! pip install mpi4py"
      ],
      "metadata": {
        "id": "oB89JLisOcs8",
        "outputId": "b060b5ee-f9c9-49c3-d7a7-8513a8198bc3",
        "colab": {
          "base_uri": "https://localhost:8080/"
        }
      },
      "execution_count": 10,
      "outputs": [
        {
          "output_type": "stream",
          "name": "stdout",
          "text": [
            "Collecting mpi4py\n",
            "  Downloading mpi4py-3.1.3.tar.gz (2.5 MB)\n",
            "\u001b[?25l\r\u001b[K     |▏                               | 10 kB 23.5 MB/s eta 0:00:01\r\u001b[K     |▎                               | 20 kB 30.4 MB/s eta 0:00:01\r\u001b[K     |▍                               | 30 kB 14.5 MB/s eta 0:00:01\r\u001b[K     |▌                               | 40 kB 11.3 MB/s eta 0:00:01\r\u001b[K     |▋                               | 51 kB 5.9 MB/s eta 0:00:01\r\u001b[K     |▉                               | 61 kB 6.8 MB/s eta 0:00:01\r\u001b[K     |█                               | 71 kB 7.3 MB/s eta 0:00:01\r\u001b[K     |█                               | 81 kB 5.4 MB/s eta 0:00:01\r\u001b[K     |█▏                              | 92 kB 6.0 MB/s eta 0:00:01\r\u001b[K     |█▎                              | 102 kB 6.6 MB/s eta 0:00:01\r\u001b[K     |█▌                              | 112 kB 6.6 MB/s eta 0:00:01\r\u001b[K     |█▋                              | 122 kB 6.6 MB/s eta 0:00:01\r\u001b[K     |█▊                              | 133 kB 6.6 MB/s eta 0:00:01\r\u001b[K     |█▉                              | 143 kB 6.6 MB/s eta 0:00:01\r\u001b[K     |██                              | 153 kB 6.6 MB/s eta 0:00:01\r\u001b[K     |██▏                             | 163 kB 6.6 MB/s eta 0:00:01\r\u001b[K     |██▎                             | 174 kB 6.6 MB/s eta 0:00:01\r\u001b[K     |██▍                             | 184 kB 6.6 MB/s eta 0:00:01\r\u001b[K     |██▌                             | 194 kB 6.6 MB/s eta 0:00:01\r\u001b[K     |██▋                             | 204 kB 6.6 MB/s eta 0:00:01\r\u001b[K     |██▉                             | 215 kB 6.6 MB/s eta 0:00:01\r\u001b[K     |███                             | 225 kB 6.6 MB/s eta 0:00:01\r\u001b[K     |███                             | 235 kB 6.6 MB/s eta 0:00:01\r\u001b[K     |███▏                            | 245 kB 6.6 MB/s eta 0:00:01\r\u001b[K     |███▎                            | 256 kB 6.6 MB/s eta 0:00:01\r\u001b[K     |███▌                            | 266 kB 6.6 MB/s eta 0:00:01\r\u001b[K     |███▋                            | 276 kB 6.6 MB/s eta 0:00:01\r\u001b[K     |███▊                            | 286 kB 6.6 MB/s eta 0:00:01\r\u001b[K     |███▉                            | 296 kB 6.6 MB/s eta 0:00:01\r\u001b[K     |████                            | 307 kB 6.6 MB/s eta 0:00:01\r\u001b[K     |████▏                           | 317 kB 6.6 MB/s eta 0:00:01\r\u001b[K     |████▎                           | 327 kB 6.6 MB/s eta 0:00:01\r\u001b[K     |████▍                           | 337 kB 6.6 MB/s eta 0:00:01\r\u001b[K     |████▌                           | 348 kB 6.6 MB/s eta 0:00:01\r\u001b[K     |████▋                           | 358 kB 6.6 MB/s eta 0:00:01\r\u001b[K     |████▉                           | 368 kB 6.6 MB/s eta 0:00:01\r\u001b[K     |█████                           | 378 kB 6.6 MB/s eta 0:00:01\r\u001b[K     |█████                           | 389 kB 6.6 MB/s eta 0:00:01\r\u001b[K     |█████▏                          | 399 kB 6.6 MB/s eta 0:00:01\r\u001b[K     |█████▎                          | 409 kB 6.6 MB/s eta 0:00:01\r\u001b[K     |█████▌                          | 419 kB 6.6 MB/s eta 0:00:01\r\u001b[K     |█████▋                          | 430 kB 6.6 MB/s eta 0:00:01\r\u001b[K     |█████▊                          | 440 kB 6.6 MB/s eta 0:00:01\r\u001b[K     |█████▉                          | 450 kB 6.6 MB/s eta 0:00:01\r\u001b[K     |██████                          | 460 kB 6.6 MB/s eta 0:00:01\r\u001b[K     |██████▏                         | 471 kB 6.6 MB/s eta 0:00:01\r\u001b[K     |██████▎                         | 481 kB 6.6 MB/s eta 0:00:01\r\u001b[K     |██████▍                         | 491 kB 6.6 MB/s eta 0:00:01\r\u001b[K     |██████▌                         | 501 kB 6.6 MB/s eta 0:00:01\r\u001b[K     |██████▋                         | 512 kB 6.6 MB/s eta 0:00:01\r\u001b[K     |██████▉                         | 522 kB 6.6 MB/s eta 0:00:01\r\u001b[K     |███████                         | 532 kB 6.6 MB/s eta 0:00:01\r\u001b[K     |███████                         | 542 kB 6.6 MB/s eta 0:00:01\r\u001b[K     |███████▏                        | 552 kB 6.6 MB/s eta 0:00:01\r\u001b[K     |███████▎                        | 563 kB 6.6 MB/s eta 0:00:01\r\u001b[K     |███████▌                        | 573 kB 6.6 MB/s eta 0:00:01\r\u001b[K     |███████▋                        | 583 kB 6.6 MB/s eta 0:00:01\r\u001b[K     |███████▊                        | 593 kB 6.6 MB/s eta 0:00:01\r\u001b[K     |███████▉                        | 604 kB 6.6 MB/s eta 0:00:01\r\u001b[K     |████████                        | 614 kB 6.6 MB/s eta 0:00:01\r\u001b[K     |████████▏                       | 624 kB 6.6 MB/s eta 0:00:01\r\u001b[K     |████████▎                       | 634 kB 6.6 MB/s eta 0:00:01\r\u001b[K     |████████▍                       | 645 kB 6.6 MB/s eta 0:00:01\r\u001b[K     |████████▌                       | 655 kB 6.6 MB/s eta 0:00:01\r\u001b[K     |████████▋                       | 665 kB 6.6 MB/s eta 0:00:01\r\u001b[K     |████████▉                       | 675 kB 6.6 MB/s eta 0:00:01\r\u001b[K     |█████████                       | 686 kB 6.6 MB/s eta 0:00:01\r\u001b[K     |█████████                       | 696 kB 6.6 MB/s eta 0:00:01\r\u001b[K     |█████████▏                      | 706 kB 6.6 MB/s eta 0:00:01\r\u001b[K     |█████████▎                      | 716 kB 6.6 MB/s eta 0:00:01\r\u001b[K     |█████████▌                      | 727 kB 6.6 MB/s eta 0:00:01\r\u001b[K     |█████████▋                      | 737 kB 6.6 MB/s eta 0:00:01\r\u001b[K     |█████████▊                      | 747 kB 6.6 MB/s eta 0:00:01\r\u001b[K     |█████████▉                      | 757 kB 6.6 MB/s eta 0:00:01\r\u001b[K     |██████████                      | 768 kB 6.6 MB/s eta 0:00:01\r\u001b[K     |██████████▏                     | 778 kB 6.6 MB/s eta 0:00:01\r\u001b[K     |██████████▎                     | 788 kB 6.6 MB/s eta 0:00:01\r\u001b[K     |██████████▍                     | 798 kB 6.6 MB/s eta 0:00:01\r\u001b[K     |██████████▌                     | 808 kB 6.6 MB/s eta 0:00:01\r\u001b[K     |██████████▋                     | 819 kB 6.6 MB/s eta 0:00:01\r\u001b[K     |██████████▉                     | 829 kB 6.6 MB/s eta 0:00:01\r\u001b[K     |███████████                     | 839 kB 6.6 MB/s eta 0:00:01\r\u001b[K     |███████████                     | 849 kB 6.6 MB/s eta 0:00:01\r\u001b[K     |███████████▏                    | 860 kB 6.6 MB/s eta 0:00:01\r\u001b[K     |███████████▎                    | 870 kB 6.6 MB/s eta 0:00:01\r\u001b[K     |███████████▌                    | 880 kB 6.6 MB/s eta 0:00:01\r\u001b[K     |███████████▋                    | 890 kB 6.6 MB/s eta 0:00:01\r\u001b[K     |███████████▊                    | 901 kB 6.6 MB/s eta 0:00:01\r\u001b[K     |███████████▉                    | 911 kB 6.6 MB/s eta 0:00:01\r\u001b[K     |████████████                    | 921 kB 6.6 MB/s eta 0:00:01\r\u001b[K     |████████████▏                   | 931 kB 6.6 MB/s eta 0:00:01\r\u001b[K     |████████████▎                   | 942 kB 6.6 MB/s eta 0:00:01\r\u001b[K     |████████████▍                   | 952 kB 6.6 MB/s eta 0:00:01\r\u001b[K     |████████████▌                   | 962 kB 6.6 MB/s eta 0:00:01\r\u001b[K     |████████████▋                   | 972 kB 6.6 MB/s eta 0:00:01\r\u001b[K     |████████████▉                   | 983 kB 6.6 MB/s eta 0:00:01\r\u001b[K     |█████████████                   | 993 kB 6.6 MB/s eta 0:00:01\r\u001b[K     |█████████████                   | 1.0 MB 6.6 MB/s eta 0:00:01\r\u001b[K     |█████████████▏                  | 1.0 MB 6.6 MB/s eta 0:00:01\r\u001b[K     |█████████████▎                  | 1.0 MB 6.6 MB/s eta 0:00:01\r\u001b[K     |█████████████▌                  | 1.0 MB 6.6 MB/s eta 0:00:01\r\u001b[K     |█████████████▋                  | 1.0 MB 6.6 MB/s eta 0:00:01\r\u001b[K     |█████████████▊                  | 1.1 MB 6.6 MB/s eta 0:00:01\r\u001b[K     |█████████████▉                  | 1.1 MB 6.6 MB/s eta 0:00:01\r\u001b[K     |██████████████                  | 1.1 MB 6.6 MB/s eta 0:00:01\r\u001b[K     |██████████████▏                 | 1.1 MB 6.6 MB/s eta 0:00:01\r\u001b[K     |██████████████▎                 | 1.1 MB 6.6 MB/s eta 0:00:01\r\u001b[K     |██████████████▍                 | 1.1 MB 6.6 MB/s eta 0:00:01\r\u001b[K     |██████████████▌                 | 1.1 MB 6.6 MB/s eta 0:00:01\r\u001b[K     |██████████████▋                 | 1.1 MB 6.6 MB/s eta 0:00:01\r\u001b[K     |██████████████▊                 | 1.1 MB 6.6 MB/s eta 0:00:01\r\u001b[K     |███████████████                 | 1.1 MB 6.6 MB/s eta 0:00:01\r\u001b[K     |███████████████                 | 1.2 MB 6.6 MB/s eta 0:00:01\r\u001b[K     |███████████████▏                | 1.2 MB 6.6 MB/s eta 0:00:01\r\u001b[K     |███████████████▎                | 1.2 MB 6.6 MB/s eta 0:00:01\r\u001b[K     |███████████████▍                | 1.2 MB 6.6 MB/s eta 0:00:01\r\u001b[K     |███████████████▋                | 1.2 MB 6.6 MB/s eta 0:00:01\r\u001b[K     |███████████████▊                | 1.2 MB 6.6 MB/s eta 0:00:01\r\u001b[K     |███████████████▉                | 1.2 MB 6.6 MB/s eta 0:00:01\r\u001b[K     |████████████████                | 1.2 MB 6.6 MB/s eta 0:00:01\r\u001b[K     |████████████████                | 1.2 MB 6.6 MB/s eta 0:00:01\r\u001b[K     |████████████████▎               | 1.2 MB 6.6 MB/s eta 0:00:01\r\u001b[K     |████████████████▍               | 1.3 MB 6.6 MB/s eta 0:00:01\r\u001b[K     |████████████████▌               | 1.3 MB 6.6 MB/s eta 0:00:01\r\u001b[K     |████████████████▋               | 1.3 MB 6.6 MB/s eta 0:00:01\r\u001b[K     |████████████████▊               | 1.3 MB 6.6 MB/s eta 0:00:01\r\u001b[K     |█████████████████               | 1.3 MB 6.6 MB/s eta 0:00:01\r\u001b[K     |█████████████████               | 1.3 MB 6.6 MB/s eta 0:00:01\r\u001b[K     |█████████████████▏              | 1.3 MB 6.6 MB/s eta 0:00:01\r\u001b[K     |█████████████████▎              | 1.3 MB 6.6 MB/s eta 0:00:01\r\u001b[K     |█████████████████▍              | 1.3 MB 6.6 MB/s eta 0:00:01\r\u001b[K     |█████████████████▋              | 1.4 MB 6.6 MB/s eta 0:00:01\r\u001b[K     |█████████████████▊              | 1.4 MB 6.6 MB/s eta 0:00:01\r\u001b[K     |█████████████████▉              | 1.4 MB 6.6 MB/s eta 0:00:01\r\u001b[K     |██████████████████              | 1.4 MB 6.6 MB/s eta 0:00:01\r\u001b[K     |██████████████████              | 1.4 MB 6.6 MB/s eta 0:00:01\r\u001b[K     |██████████████████▎             | 1.4 MB 6.6 MB/s eta 0:00:01\r\u001b[K     |██████████████████▍             | 1.4 MB 6.6 MB/s eta 0:00:01\r\u001b[K     |██████████████████▌             | 1.4 MB 6.6 MB/s eta 0:00:01\r\u001b[K     |██████████████████▋             | 1.4 MB 6.6 MB/s eta 0:00:01\r\u001b[K     |██████████████████▊             | 1.4 MB 6.6 MB/s eta 0:00:01\r\u001b[K     |███████████████████             | 1.5 MB 6.6 MB/s eta 0:00:01\r\u001b[K     |███████████████████             | 1.5 MB 6.6 MB/s eta 0:00:01\r\u001b[K     |███████████████████▏            | 1.5 MB 6.6 MB/s eta 0:00:01\r\u001b[K     |███████████████████▎            | 1.5 MB 6.6 MB/s eta 0:00:01\r\u001b[K     |███████████████████▍            | 1.5 MB 6.6 MB/s eta 0:00:01\r\u001b[K     |███████████████████▋            | 1.5 MB 6.6 MB/s eta 0:00:01\r\u001b[K     |███████████████████▊            | 1.5 MB 6.6 MB/s eta 0:00:01\r\u001b[K     |███████████████████▉            | 1.5 MB 6.6 MB/s eta 0:00:01\r\u001b[K     |████████████████████            | 1.5 MB 6.6 MB/s eta 0:00:01\r\u001b[K     |████████████████████            | 1.5 MB 6.6 MB/s eta 0:00:01\r\u001b[K     |████████████████████▎           | 1.6 MB 6.6 MB/s eta 0:00:01\r\u001b[K     |████████████████████▍           | 1.6 MB 6.6 MB/s eta 0:00:01\r\u001b[K     |████████████████████▌           | 1.6 MB 6.6 MB/s eta 0:00:01\r\u001b[K     |████████████████████▋           | 1.6 MB 6.6 MB/s eta 0:00:01\r\u001b[K     |████████████████████▊           | 1.6 MB 6.6 MB/s eta 0:00:01\r\u001b[K     |█████████████████████           | 1.6 MB 6.6 MB/s eta 0:00:01\r\u001b[K     |█████████████████████           | 1.6 MB 6.6 MB/s eta 0:00:01\r\u001b[K     |█████████████████████▏          | 1.6 MB 6.6 MB/s eta 0:00:01\r\u001b[K     |█████████████████████▎          | 1.6 MB 6.6 MB/s eta 0:00:01\r\u001b[K     |█████████████████████▍          | 1.6 MB 6.6 MB/s eta 0:00:01\r\u001b[K     |█████████████████████▋          | 1.7 MB 6.6 MB/s eta 0:00:01\r\u001b[K     |█████████████████████▊          | 1.7 MB 6.6 MB/s eta 0:00:01\r\u001b[K     |█████████████████████▉          | 1.7 MB 6.6 MB/s eta 0:00:01\r\u001b[K     |██████████████████████          | 1.7 MB 6.6 MB/s eta 0:00:01\r\u001b[K     |██████████████████████          | 1.7 MB 6.6 MB/s eta 0:00:01\r\u001b[K     |██████████████████████▎         | 1.7 MB 6.6 MB/s eta 0:00:01\r\u001b[K     |██████████████████████▍         | 1.7 MB 6.6 MB/s eta 0:00:01\r\u001b[K     |██████████████████████▌         | 1.7 MB 6.6 MB/s eta 0:00:01\r\u001b[K     |██████████████████████▋         | 1.7 MB 6.6 MB/s eta 0:00:01\r\u001b[K     |██████████████████████▊         | 1.8 MB 6.6 MB/s eta 0:00:01\r\u001b[K     |███████████████████████         | 1.8 MB 6.6 MB/s eta 0:00:01\r\u001b[K     |███████████████████████         | 1.8 MB 6.6 MB/s eta 0:00:01\r\u001b[K     |███████████████████████▏        | 1.8 MB 6.6 MB/s eta 0:00:01\r\u001b[K     |███████████████████████▎        | 1.8 MB 6.6 MB/s eta 0:00:01\r\u001b[K     |███████████████████████▍        | 1.8 MB 6.6 MB/s eta 0:00:01\r\u001b[K     |███████████████████████▋        | 1.8 MB 6.6 MB/s eta 0:00:01\r\u001b[K     |███████████████████████▊        | 1.8 MB 6.6 MB/s eta 0:00:01\r\u001b[K     |███████████████████████▉        | 1.8 MB 6.6 MB/s eta 0:00:01\r\u001b[K     |████████████████████████        | 1.8 MB 6.6 MB/s eta 0:00:01\r\u001b[K     |████████████████████████        | 1.9 MB 6.6 MB/s eta 0:00:01\r\u001b[K     |████████████████████████▎       | 1.9 MB 6.6 MB/s eta 0:00:01\r\u001b[K     |████████████████████████▍       | 1.9 MB 6.6 MB/s eta 0:00:01\r\u001b[K     |████████████████████████▌       | 1.9 MB 6.6 MB/s eta 0:00:01\r\u001b[K     |████████████████████████▋       | 1.9 MB 6.6 MB/s eta 0:00:01\r\u001b[K     |████████████████████████▊       | 1.9 MB 6.6 MB/s eta 0:00:01\r\u001b[K     |█████████████████████████       | 1.9 MB 6.6 MB/s eta 0:00:01\r\u001b[K     |█████████████████████████       | 1.9 MB 6.6 MB/s eta 0:00:01\r\u001b[K     |█████████████████████████▏      | 1.9 MB 6.6 MB/s eta 0:00:01\r\u001b[K     |█████████████████████████▎      | 1.9 MB 6.6 MB/s eta 0:00:01\r\u001b[K     |█████████████████████████▍      | 2.0 MB 6.6 MB/s eta 0:00:01\r\u001b[K     |█████████████████████████▋      | 2.0 MB 6.6 MB/s eta 0:00:01\r\u001b[K     |█████████████████████████▊      | 2.0 MB 6.6 MB/s eta 0:00:01\r\u001b[K     |█████████████████████████▉      | 2.0 MB 6.6 MB/s eta 0:00:01\r\u001b[K     |██████████████████████████      | 2.0 MB 6.6 MB/s eta 0:00:01\r\u001b[K     |██████████████████████████      | 2.0 MB 6.6 MB/s eta 0:00:01\r\u001b[K     |██████████████████████████▎     | 2.0 MB 6.6 MB/s eta 0:00:01\r\u001b[K     |██████████████████████████▍     | 2.0 MB 6.6 MB/s eta 0:00:01\r\u001b[K     |██████████████████████████▌     | 2.0 MB 6.6 MB/s eta 0:00:01\r\u001b[K     |██████████████████████████▋     | 2.0 MB 6.6 MB/s eta 0:00:01\r\u001b[K     |██████████████████████████▊     | 2.1 MB 6.6 MB/s eta 0:00:01\r\u001b[K     |███████████████████████████     | 2.1 MB 6.6 MB/s eta 0:00:01\r\u001b[K     |███████████████████████████     | 2.1 MB 6.6 MB/s eta 0:00:01\r\u001b[K     |███████████████████████████▏    | 2.1 MB 6.6 MB/s eta 0:00:01\r\u001b[K     |███████████████████████████▎    | 2.1 MB 6.6 MB/s eta 0:00:01\r\u001b[K     |███████████████████████████▍    | 2.1 MB 6.6 MB/s eta 0:00:01\r\u001b[K     |███████████████████████████▋    | 2.1 MB 6.6 MB/s eta 0:00:01\r\u001b[K     |███████████████████████████▊    | 2.1 MB 6.6 MB/s eta 0:00:01\r\u001b[K     |███████████████████████████▉    | 2.1 MB 6.6 MB/s eta 0:00:01\r\u001b[K     |████████████████████████████    | 2.2 MB 6.6 MB/s eta 0:00:01\r\u001b[K     |████████████████████████████    | 2.2 MB 6.6 MB/s eta 0:00:01\r\u001b[K     |████████████████████████████▎   | 2.2 MB 6.6 MB/s eta 0:00:01\r\u001b[K     |████████████████████████████▍   | 2.2 MB 6.6 MB/s eta 0:00:01\r\u001b[K     |████████████████████████████▌   | 2.2 MB 6.6 MB/s eta 0:00:01\r\u001b[K     |████████████████████████████▋   | 2.2 MB 6.6 MB/s eta 0:00:01\r\u001b[K     |████████████████████████████▊   | 2.2 MB 6.6 MB/s eta 0:00:01\r\u001b[K     |█████████████████████████████   | 2.2 MB 6.6 MB/s eta 0:00:01\r\u001b[K     |█████████████████████████████   | 2.2 MB 6.6 MB/s eta 0:00:01\r\u001b[K     |█████████████████████████████▏  | 2.2 MB 6.6 MB/s eta 0:00:01\r\u001b[K     |█████████████████████████████▎  | 2.3 MB 6.6 MB/s eta 0:00:01\r\u001b[K     |█████████████████████████████▍  | 2.3 MB 6.6 MB/s eta 0:00:01\r\u001b[K     |█████████████████████████████▌  | 2.3 MB 6.6 MB/s eta 0:00:01\r\u001b[K     |█████████████████████████████▊  | 2.3 MB 6.6 MB/s eta 0:00:01\r\u001b[K     |█████████████████████████████▉  | 2.3 MB 6.6 MB/s eta 0:00:01\r\u001b[K     |██████████████████████████████  | 2.3 MB 6.6 MB/s eta 0:00:01\r\u001b[K     |██████████████████████████████  | 2.3 MB 6.6 MB/s eta 0:00:01\r\u001b[K     |██████████████████████████████▏ | 2.3 MB 6.6 MB/s eta 0:00:01\r\u001b[K     |██████████████████████████████▍ | 2.3 MB 6.6 MB/s eta 0:00:01\r\u001b[K     |██████████████████████████████▌ | 2.3 MB 6.6 MB/s eta 0:00:01\r\u001b[K     |██████████████████████████████▋ | 2.4 MB 6.6 MB/s eta 0:00:01\r\u001b[K     |██████████████████████████████▊ | 2.4 MB 6.6 MB/s eta 0:00:01\r\u001b[K     |██████████████████████████████▉ | 2.4 MB 6.6 MB/s eta 0:00:01\r\u001b[K     |███████████████████████████████ | 2.4 MB 6.6 MB/s eta 0:00:01\r\u001b[K     |███████████████████████████████▏| 2.4 MB 6.6 MB/s eta 0:00:01\r\u001b[K     |███████████████████████████████▎| 2.4 MB 6.6 MB/s eta 0:00:01\r\u001b[K     |███████████████████████████████▍| 2.4 MB 6.6 MB/s eta 0:00:01\r\u001b[K     |███████████████████████████████▌| 2.4 MB 6.6 MB/s eta 0:00:01\r\u001b[K     |███████████████████████████████▊| 2.4 MB 6.6 MB/s eta 0:00:01\r\u001b[K     |███████████████████████████████▉| 2.4 MB 6.6 MB/s eta 0:00:01\r\u001b[K     |████████████████████████████████| 2.5 MB 6.6 MB/s eta 0:00:01\r\u001b[K     |████████████████████████████████| 2.5 MB 6.6 MB/s \n",
            "\u001b[?25h  Installing build dependencies ... \u001b[?25l\u001b[?25hdone\n",
            "  Getting requirements to build wheel ... \u001b[?25l\u001b[?25hdone\n",
            "    Preparing wheel metadata ... \u001b[?25l\u001b[?25hdone\n",
            "Building wheels for collected packages: mpi4py\n",
            "  Building wheel for mpi4py (PEP 517) ... \u001b[?25l\u001b[?25hdone\n",
            "  Created wheel for mpi4py: filename=mpi4py-3.1.3-cp37-cp37m-linux_x86_64.whl size=2185250 sha256=ed0600385302d52c7d69b5c45036e8141a70fee1fac3a082da6d423862ac09e2\n",
            "  Stored in directory: /root/.cache/pip/wheels/7a/07/14/6a0c63fa2c6e473c6edc40985b7d89f05c61ff25ee7f0ad9ac\n",
            "Successfully built mpi4py\n",
            "Installing collected packages: mpi4py\n",
            "Successfully installed mpi4py-3.1.3\n"
          ]
        }
      ]
    },
    {
      "cell_type": "code",
      "source": [
        "%%writefile Ejemplo.py\n",
        "from mpi4py import MPI\n",
        "\n",
        "comm = MPI.COMM_WORLD\n",
        "rank = comm.Get_rank()\n",
        "size = comm.Get_size()\n",
        "\n",
        "if rank == 0:\n",
        "  val_n = 10000\n",
        "\n",
        "else:\n",
        "  val_n = None;\n",
        "\n",
        "dato = comm.bcast(val_n, root = 0)\n",
        "print( rank, size, dato)"
      ],
      "metadata": {
        "id": "HeuL5cmZMyLA",
        "outputId": "9619f052-740d-4d65-83a3-9cd4474001d8",
        "colab": {
          "base_uri": "https://localhost:8080/"
        }
      },
      "execution_count": 14,
      "outputs": [
        {
          "output_type": "stream",
          "name": "stdout",
          "text": [
            "Overwriting Ejemplo.py\n"
          ]
        }
      ]
    },
    {
      "cell_type": "code",
      "source": [
        "! mpirun --allow-run-as-root -np 4 python Ejemplo.py"
      ],
      "metadata": {
        "id": "NG8Wd1i3NYRJ",
        "outputId": "513c3e4a-0dfc-43c0-e6d3-8e02f7fd35ee",
        "colab": {
          "base_uri": "https://localhost:8080/"
        }
      },
      "execution_count": 15,
      "outputs": [
        {
          "output_type": "stream",
          "name": "stdout",
          "text": [
            "0 4 10000\n",
            "1 4 10000\n",
            "2 4 10000\n",
            "3 4 10000\n"
          ]
        }
      ]
    },
    {
      "cell_type": "code",
      "source": [
        "%%writefile Ejemplogather.py\n",
        "from mpi4py import MPI\n",
        "\n",
        "comm = MPI.COMM_WORLD\n",
        "rank = comm.Get_rank()\n",
        "size = comm.Get_size()\n",
        "\n",
        "if rank != 0:\n",
        "  lista = [val for val in range(size)]\n",
        "\n",
        "else:\n",
        "  lista = None;\n",
        "\n",
        "dato = comm.gather(lista, root = 0)\n",
        "print( rank, size, dato)"
      ],
      "metadata": {
        "id": "Z6Lau6HmP6g6"
      },
      "execution_count": null,
      "outputs": []
    },
    {
      "cell_type": "code",
      "source": [
        "! mpirun --allow-run-as-root -np 4 python Ejemplogather.py"
      ],
      "metadata": {
        "id": "n1fCjMvUP7Iz",
        "outputId": "f853f463-1565-4b97-bbee-e264ca545d2e",
        "colab": {
          "base_uri": "https://localhost:8080/"
        }
      },
      "execution_count": 19,
      "outputs": [
        {
          "output_type": "stream",
          "name": "stdout",
          "text": [
            "3 4 None\n",
            "2 4 None\n",
            "1 4 None\n",
            "0 4 [None, [0, 1, 2, 3], [0, 1, 2, 3], [0, 1, 2, 3]]\n"
          ]
        }
      ]
    },
    {
      "cell_type": "code",
      "source": [
        "%%writefile calculoPi.py\n",
        "from mpi4py import MPI\n",
        "\n",
        "comm = MPI.COMM_WORLD\n",
        "rank = comm.Get_rank()\n",
        "size = comm.Get_size()\n",
        "\n",
        "def cal_pi(li, ls, step):\n",
        "  aproxpi = 1\n",
        "  for k in range(li, ls+1, step):\n",
        "    k2= k*2\n",
        "    aproxpi *= (k2**2) / ((k2-1)*(k2+1))\n",
        "  return aproxpi\n",
        "\n",
        "if __name__ == \"__main__\":\n",
        "  if rank == 0:\n",
        "    kmax = 2_000_000\n",
        "  else:\n",
        "    kmax = None\n",
        "\n",
        "  km = comm.bcast(kmax, root=0)\n",
        "\n",
        "  val = cal_pi(rank+1, km, size)\n",
        "  lista = comm.gather(val, root=0)\n",
        "  \n",
        "  if rank == 0:\n",
        "    val_pi = 2\n",
        "    for val in lista:\n",
        "      val_pi *= val\n",
        "    print(val_pi)"
      ],
      "metadata": {
        "id": "OnDjj2l_SiQx",
        "outputId": "8bd7abd7-fcea-4580-ae1d-225423b0120c",
        "colab": {
          "base_uri": "https://localhost:8080/"
        }
      },
      "execution_count": 28,
      "outputs": [
        {
          "output_type": "stream",
          "name": "stdout",
          "text": [
            "Overwriting calculoPi.py\n"
          ]
        }
      ]
    },
    {
      "cell_type": "code",
      "source": [
        "! mpirun --allow-run-as-root -np 4 python calculoPi.py"
      ],
      "metadata": {
        "id": "C_gbSMIMSm8S",
        "outputId": "a26a8340-6a45-43b7-f8a3-1d0a2f0a3d21",
        "colab": {
          "base_uri": "https://localhost:8080/"
        }
      },
      "execution_count": 29,
      "outputs": [
        {
          "output_type": "stream",
          "name": "stdout",
          "text": [
            "3.1415922608922244\n"
          ]
        }
      ]
    }
  ],
  "metadata": {
    "colab": {
      "collapsed_sections": [],
      "name": "Te damos la bienvenida a Colaboratory",
      "toc_visible": true,
      "provenance": [],
      "include_colab_link": true
    },
    "kernelspec": {
      "display_name": "Python 3",
      "name": "python3"
    }
  },
  "nbformat": 4,
  "nbformat_minor": 0
}