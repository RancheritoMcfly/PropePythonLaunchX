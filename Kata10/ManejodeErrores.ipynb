{
 "cells": [
  {
   "cell_type": "markdown",
   "metadata": {},
   "source": [
    "# Uso de traceback para buscar errores"
   ]
  },
  {
   "cell_type": "code",
   "execution_count": 1,
   "metadata": {},
   "outputs": [
    {
     "ename": "FileNotFoundError",
     "evalue": "[Errno 2] No such file or directory: 'archivo.jpg'",
     "output_type": "error",
     "traceback": [
      "\u001b[1;31m---------------------------------------------------------------------------\u001b[0m",
      "\u001b[1;31mFileNotFoundError\u001b[0m                         Traceback (most recent call last)",
      "\u001b[1;32md:\\VISUAL STUDIO CODE\\LAUNCHX\\Kata10\\ManejodeErrores.ipynb Cell 2'\u001b[0m in \u001b[0;36m<module>\u001b[1;34m\u001b[0m\n\u001b[1;32m----> <a href='vscode-notebook-cell:/d%3A/VISUAL%20STUDIO%20CODE/LAUNCHX/Kata10/ManejodeErrores.ipynb#ch0000000?line=0'>1</a>\u001b[0m \u001b[39mopen\u001b[39;49m(\u001b[39m\"\u001b[39;49m\u001b[39marchivo.jpg\u001b[39;49m\u001b[39m\"\u001b[39;49m)\n",
      "\u001b[1;31mFileNotFoundError\u001b[0m: [Errno 2] No such file or directory: 'archivo.jpg'"
     ]
    }
   ],
   "source": [
    "open(\"archivo.jpg\")\n"
   ]
  },
  {
   "cell_type": "code",
   "execution_count": 2,
   "metadata": {},
   "outputs": [
    {
     "name": "stdout",
     "output_type": "stream",
     "text": [
      "No se pudo encontrar el archivo\n"
     ]
    }
   ],
   "source": [
    "try: \n",
    "    open(\"archivo.jpg\")\n",
    "except FileNotFoundError:\n",
    "    print(\"No se pudo encontrar el archivo\")"
   ]
  },
  {
   "cell_type": "code",
   "execution_count": null,
   "metadata": {},
   "outputs": [],
   "source": [
    "try:\n",
    "    open(\"archivo.jpg\")\n",
    "except FileNotFoundError as err:\n",
    "    print(\"Error al leer el archivo, Causa: \", err)"
   ]
  },
  {
   "cell_type": "code",
   "execution_count": 4,
   "metadata": {},
   "outputs": [],
   "source": [
    "try:\n",
    "    open(\"archivo.jpg\")\n",
    "except OSError as err:\n",
    "    if err.errno == 2:\n",
    "        print(\"No se pudo encontrar el archivo!\")\n",
    "    elif err.errno == 13:\n",
    "        print(\"Encontrado, pero no se pudo leer!\")"
   ]
  },
  {
   "cell_type": "code",
   "execution_count": 12,
   "metadata": {},
   "outputs": [
    {
     "ename": "TypeError",
     "evalue": "Todos los argumentos deben ser de tipo entero (int)",
     "output_type": "error",
     "traceback": [
      "\u001b[1;31m---------------------------------------------------------------------------\u001b[0m",
      "\u001b[1;31mTypeError\u001b[0m                                 Traceback (most recent call last)",
      "\u001b[1;32md:\\VISUAL STUDIO CODE\\LAUNCHX\\Kata10\\ManejodeErrores.ipynb Cell 6'\u001b[0m in \u001b[0;36mwater_left\u001b[1;34m(astronauts, water_left, days_left)\u001b[0m\n\u001b[0;32m      <a href='vscode-notebook-cell:/d%3A/VISUAL%20STUDIO%20CODE/LAUNCHX/Kata10/ManejodeErrores.ipynb#ch0000005?line=2'>3</a>\u001b[0m \u001b[39mtry\u001b[39;00m:\n\u001b[1;32m----> <a href='vscode-notebook-cell:/d%3A/VISUAL%20STUDIO%20CODE/LAUNCHX/Kata10/ManejodeErrores.ipynb#ch0000005?line=3'>4</a>\u001b[0m     argument\u001b[39m/\u001b[39;49m\u001b[39m10\u001b[39;49m\n\u001b[0;32m      <a href='vscode-notebook-cell:/d%3A/VISUAL%20STUDIO%20CODE/LAUNCHX/Kata10/ManejodeErrores.ipynb#ch0000005?line=4'>5</a>\u001b[0m \u001b[39mexcept\u001b[39;00m \u001b[39mTypeError\u001b[39;00m:\n",
      "\u001b[1;31mTypeError\u001b[0m: unsupported operand type(s) for /: 'str' and 'int'",
      "\nDuring handling of the above exception, another exception occurred:\n",
      "\u001b[1;31mTypeError\u001b[0m                                 Traceback (most recent call last)",
      "\u001b[1;32md:\\VISUAL STUDIO CODE\\LAUNCHX\\Kata10\\ManejodeErrores.ipynb Cell 6'\u001b[0m in \u001b[0;36m<module>\u001b[1;34m\u001b[0m\n\u001b[0;32m     <a href='vscode-notebook-cell:/d%3A/VISUAL%20STUDIO%20CODE/LAUNCHX/Kata10/ManejodeErrores.ipynb#ch0000005?line=12'>13</a>\u001b[0m     \u001b[39mreturn\u001b[39;00m \u001b[39mf\u001b[39m\u001b[39m\"\u001b[39m\u001b[39mTotal de agua después de: \u001b[39m\u001b[39m{\u001b[39;00mdays_left\u001b[39m}\u001b[39;00m\u001b[39m dias es \u001b[39m\u001b[39m{\u001b[39;00mtotal_water\u001b[39m}\u001b[39;00m\u001b[39m litros\u001b[39m\u001b[39m\"\u001b[39m\n\u001b[0;32m     <a href='vscode-notebook-cell:/d%3A/VISUAL%20STUDIO%20CODE/LAUNCHX/Kata10/ManejodeErrores.ipynb#ch0000005?line=14'>15</a>\u001b[0m \u001b[39mtry\u001b[39;00m:\n\u001b[1;32m---> <a href='vscode-notebook-cell:/d%3A/VISUAL%20STUDIO%20CODE/LAUNCHX/Kata10/ManejodeErrores.ipynb#ch0000005?line=15'>16</a>\u001b[0m     water_left(\u001b[39m\"\u001b[39;49m\u001b[39m3\u001b[39;49m\u001b[39m\"\u001b[39;49m, \u001b[39m\"\u001b[39;49m\u001b[39m200\u001b[39;49m\u001b[39m\"\u001b[39;49m, \u001b[39mNone\u001b[39;49;00m)\n\u001b[0;32m     <a href='vscode-notebook-cell:/d%3A/VISUAL%20STUDIO%20CODE/LAUNCHX/Kata10/ManejodeErrores.ipynb#ch0000005?line=16'>17</a>\u001b[0m \u001b[39mexcept\u001b[39;00m \u001b[39mRuntimeError\u001b[39;00m \u001b[39mas\u001b[39;00m err:\n\u001b[0;32m     <a href='vscode-notebook-cell:/d%3A/VISUAL%20STUDIO%20CODE/LAUNCHX/Kata10/ManejodeErrores.ipynb#ch0000005?line=17'>18</a>\u001b[0m     \u001b[39mprint\u001b[39m(err)\n",
      "\u001b[1;32md:\\VISUAL STUDIO CODE\\LAUNCHX\\Kata10\\ManejodeErrores.ipynb Cell 6'\u001b[0m in \u001b[0;36mwater_left\u001b[1;34m(astronauts, water_left, days_left)\u001b[0m\n\u001b[0;32m      <a href='vscode-notebook-cell:/d%3A/VISUAL%20STUDIO%20CODE/LAUNCHX/Kata10/ManejodeErrores.ipynb#ch0000005?line=3'>4</a>\u001b[0m         argument\u001b[39m/\u001b[39m\u001b[39m10\u001b[39m\n\u001b[0;32m      <a href='vscode-notebook-cell:/d%3A/VISUAL%20STUDIO%20CODE/LAUNCHX/Kata10/ManejodeErrores.ipynb#ch0000005?line=4'>5</a>\u001b[0m     \u001b[39mexcept\u001b[39;00m \u001b[39mTypeError\u001b[39;00m:\n\u001b[1;32m----> <a href='vscode-notebook-cell:/d%3A/VISUAL%20STUDIO%20CODE/LAUNCHX/Kata10/ManejodeErrores.ipynb#ch0000005?line=5'>6</a>\u001b[0m         \u001b[39mraise\u001b[39;00m \u001b[39mTypeError\u001b[39;00m(\u001b[39mf\u001b[39m\u001b[39m\"\u001b[39m\u001b[39mTodos los argumentos deben ser de tipo entero (int)\u001b[39m\u001b[39m\"\u001b[39m)\n\u001b[0;32m      <a href='vscode-notebook-cell:/d%3A/VISUAL%20STUDIO%20CODE/LAUNCHX/Kata10/ManejodeErrores.ipynb#ch0000005?line=7'>8</a>\u001b[0m daily_usage \u001b[39m=\u001b[39m astronauts \u001b[39m*\u001b[39m \u001b[39m11\u001b[39m\n\u001b[0;32m      <a href='vscode-notebook-cell:/d%3A/VISUAL%20STUDIO%20CODE/LAUNCHX/Kata10/ManejodeErrores.ipynb#ch0000005?line=8'>9</a>\u001b[0m total_usage \u001b[39m=\u001b[39m daily_usage \u001b[39m*\u001b[39m days_left\n",
      "\u001b[1;31mTypeError\u001b[0m: Todos los argumentos deben ser de tipo entero (int)"
     ]
    }
   ],
   "source": [
    "def water_left(astronauts, water_left, days_left):\n",
    "    for argument in [astronauts, water_left, days_left]:\n",
    "        try:\n",
    "            argument/10\n",
    "        except TypeError:\n",
    "            raise TypeError(f\"Todos los argumentos deben ser de tipo entero (int)\")\n",
    "    \n",
    "    daily_usage = astronauts * 11\n",
    "    total_usage = daily_usage * days_left\n",
    "    total_water = water_left - total_usage\n",
    "    if total_water < 0:\n",
    "        raise RuntimeError(f\"No hay suficiente agua para {astronauts} astronautas, despues de {days_left} días\")\n",
    "    return f\"Total de agua después de: {days_left} dias es {total_water} litros\"\n",
    "\n",
    "try:\n",
    "    water_left(\"3\", \"200\", None)\n",
    "except RuntimeError as err:\n",
    "    print(err)\n",
    "    \n",
    "    "
   ]
  }
 ],
 "metadata": {
  "interpreter": {
   "hash": "bdaa9565f69368ae5dabad04b58b810a1d22f534307cd795d8b59dedaf44105b"
  },
  "kernelspec": {
   "display_name": "Python 3.9.10 64-bit (windows store)",
   "language": "python",
   "name": "python3"
  },
  "language_info": {
   "codemirror_mode": {
    "name": "ipython",
    "version": 3
   },
   "file_extension": ".py",
   "mimetype": "text/x-python",
   "name": "python",
   "nbconvert_exporter": "python",
   "pygments_lexer": "ipython3",
   "version": "3.9.10"
  },
  "orig_nbformat": 4
 },
 "nbformat": 4,
 "nbformat_minor": 2
}
