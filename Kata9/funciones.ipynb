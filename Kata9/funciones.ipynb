{
 "cells": [
  {
   "cell_type": "markdown",
   "metadata": {},
   "source": [
    "# Ejercicio: uso de funciones en Python"
   ]
  },
  {
   "cell_type": "code",
   "execution_count": 4,
   "metadata": {},
   "outputs": [
    {
     "name": "stdout",
     "output_type": "stream",
     "text": [
      "Reporte de combustible:\n",
      "Promedio Total: 55.0%\n",
      "Tanque principal: 60%\n",
      "Tanque exterior: 80%\n",
      "Tanque de Hidrogeno: 25%\n",
      "\n"
     ]
    },
    {
     "data": {
      "text/plain": [
       "55.0"
      ]
     },
     "execution_count": 4,
     "metadata": {},
     "output_type": "execute_result"
    }
   ],
   "source": [
    "#Función para leer 3 tanques de combustible y muestre el promedio\n",
    "def generar_reporte(tanque1, tanque2, tanque3):\n",
    "    promedio = (tanque1 + tanque2 + tanque3) / 3\n",
    "    return f\"\"\"Reporte de combustible:\n",
    "Promedio Total: {promedio}%\n",
    "Tanque principal: {tanque1}%\n",
    "Tanque exterior: {tanque2}%\n",
    "Tanque de Hidrogeno: {tanque3}%\n",
    "\"\"\"\n",
    "\n",
    "#Llamamos a la función que genera el reporte\n",
    "print(generar_reporte(60,80,25))\n",
    "\n",
    "#Funcion promedio\n",
    "def promedio(values):\n",
    "    total = sum(values)\n",
    "    numero_tanques = len(values)\n",
    "    return total / numero_tanques\n",
    "\n",
    "#Probando la función\n",
    "promedio([60,80,25])\n",
    "\n",
    "#Actualiza la función\n",
    "def generar_reporte(tanque_1, tanque_2, tanque_3):\n",
    "    return f\"\"\"Reporte de combustible:\n",
    "Promedio Total: {promedio([tanque_1, tanque_2, tanque_3])}%\n",
    "Tanque\n",
    "\"\"\""
   ]
  },
  {
   "cell_type": "markdown",
   "metadata": {},
   "source": [
    "# Ejercicio 2: trabajo con argumentos de palabra clave"
   ]
  },
  {
   "cell_type": "code",
   "execution_count": 9,
   "metadata": {},
   "outputs": [
    {
     "name": "stdout",
     "output_type": "stream",
     "text": [
      "\n",
      "Reporte de la misión:\n",
      "Destino a: Moon\n",
      "Tiempo total de vuelo: 1.0833333333333333 hrs\n",
      "Combustible actual: 75000 litros faltantes\n",
      "\n",
      "\n",
      "Reporte de la misión:\n",
      "Destino a: Moon\n",
      "Tiempo total de vuelo: 1.3333333333333333 hrs\n",
      "Combustible actual: 110000 litros faltantes\n",
      "\n",
      "\n",
      "    Reporte de la misión:\n",
      "    Destino a: Moon\n",
      "    Tiempo total de vuelo: 1.3333333333333333 hrs\n",
      "    Combustible actual: 110000 litros faltantes\n",
      "       principal Tanque ----> 20000 litros restantes\n",
      "       exterior Tanque ----> 90000 litros restantes\n",
      "\n"
     ]
    }
   ],
   "source": [
    "# Función con un informe preciso de la misión. Considera hora de prelanzamiento, tiempo de vuelo, destino, tanque externo y tanque interno\n",
    "\n",
    "def reporte_mision(pre_time, flight_time, destination, tanque_externo, tanque_principal):\n",
    "    return f\"\"\"\n",
    "Reporte de la misión:\n",
    "Destino a: {destination}\n",
    "Tiempo total de vuelo: {(pre_time + flight_time)/60} hrs\n",
    "Combustible actual: {tanque_externo + tanque_principal} litros faltantes\n",
    "\"\"\"\n",
    "\n",
    "print(reporte_mision(14, 51, \"Moon\", 20000,55000))\n",
    "\n",
    "# Escribe tu nueva función de reporte considerando lo anterior\n",
    "def reporte_mision2(destination, *minutos, **combustible):\n",
    "        return f\"\"\"\n",
    "Reporte de la misión:\n",
    "Destino a: {destination}\n",
    "Tiempo total de vuelo: {(sum(minutos))/60} hrs\n",
    "Combustible actual: {sum(combustible.values())} litros faltantes\n",
    "\"\"\"\n",
    "print(reporte_mision2(\"Moon\", 8, 12, 60, principal = 20000, exterior = 90000))\n",
    "\n",
    "#Nueva funcion:\n",
    "def reporte_mision3(destination, *minutos, **combustible):\n",
    "    reporte = f\"\"\"\n",
    "    Reporte de la misión:\n",
    "    Destino a: {destination}\n",
    "    Tiempo total de vuelo: {(sum(minutos))/60} hrs\n",
    "    Combustible actual: {sum(combustible.values())} litros faltantes\\n\"\"\"\n",
    "    \n",
    "    for nombre_tanque, litros in combustible.items():\n",
    "        reporte += f\"       {nombre_tanque} Tanque ----> {litros} litros restantes\\n\"\n",
    "    return reporte\n",
    "        \n",
    "\n",
    "\n",
    "print(reporte_mision3(\"Moon\", 8, 12, 60, principal = 20000, exterior = 90000))\n"
   ]
  }
 ],
 "metadata": {
  "interpreter": {
   "hash": "bdaa9565f69368ae5dabad04b58b810a1d22f534307cd795d8b59dedaf44105b"
  },
  "kernelspec": {
   "display_name": "Python 3.9.10 64-bit (windows store)",
   "language": "python",
   "name": "python3"
  },
  "language_info": {
   "codemirror_mode": {
    "name": "ipython",
    "version": 3
   },
   "file_extension": ".py",
   "mimetype": "text/x-python",
   "name": "python",
   "nbconvert_exporter": "python",
   "pygments_lexer": "ipython3",
   "version": "3.9.10"
  },
  "orig_nbformat": 4
 },
 "nbformat": 4,
 "nbformat_minor": 2
}
